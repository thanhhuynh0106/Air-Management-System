{
 "cells": [
  {
   "cell_type": "code",
   "execution_count": 1,
   "metadata": {},
   "outputs": [],
   "source": [
    "import selenium\n",
    "from selenium import webdriver\n",
    "from selenium.webdriver.chrome.service import Service\n",
    "from selenium.webdriver.chrome.options import Options\n",
    "from selenium.webdriver.common.by import By\n",
    "from selenium.webdriver.common.keys import Keys\n",
    "from selenium.webdriver.support.ui import WebDriverWait\n",
    "from selenium.webdriver.support import expected_conditions as EC\n",
    "import time\n",
    "import pandas as pd"
   ]
  },
  {
   "cell_type": "code",
   "execution_count": 2,
   "metadata": {},
   "outputs": [],
   "source": [
    "CHROMEDRIVER_PATH = r\"C:\\ChromeDriver\\chromedriver-win64\\chromedriver.exe\"\n",
    "\n",
    "chrome_options = Options()\n",
    "chrome_options.add_argument(\"--headless\")\n",
    "chrome_options.add_argument(\"--no-sandbox\")\n",
    "chrome_options.add_argument(\"--disable-dev-shm-usage\")\n",
    "\n",
    "service = Service(CHROMEDRIVER_PATH)\n",
    "driver = webdriver.Chrome(service=service, options=chrome_options)"
   ]
  },
  {
   "cell_type": "code",
   "execution_count": null,
   "metadata": {},
   "outputs": [
    {
     "name": "stdout",
     "output_type": "stream",
     "text": [
      "✅ Crawl dữ liệu thành công! Dữ liệu đã được lưu vào 'flight_data.xlsx'.\n"
     ]
    }
   ],
   "source": [
    "url = 'https://vietnamairport.vn/thong-tin-lich-bay'\n",
    "driver.get(url)\n",
    "\n",
    "time.sleep(5)\n",
    "\n",
    "try:\n",
    "    wait = WebDriverWait(driver, 10)\n",
    "    search_button = wait.until(EC.element_to_be_clickable((By.CLASS_NAME, \"btn-filter\")))\n",
    "    search_button.click()\n",
    "\n",
    "    wait.until(EC.presence_of_element_located((By.CSS_SELECTOR, \"#flight_table tbody tr\")))\n",
    "\n",
    "    column_headers = [th.text.strip() for th in driver.find_elements(By.CSS_SELECTOR, \"table.table-striped thead th\")]\n",
    "    rows = driver.find_elements(By.CSS_SELECTOR, \"table.table-striped tbody tr\")\n",
    "    table_data = []\n",
    "    \n",
    "    for row in rows:\n",
    "        cells = row.find_elements(By.TAG_NAME, \"td\")\n",
    "        table_data.append([cell.text.strip() for cell in cells])\n",
    "\n",
    "    driver.quit()\n",
    "    df = pd.DataFrame(table_data, columns=column_headers)\n",
    "\n",
    "    df.to_csv(\"flights.csv\", index=False)\n",
    "\n",
    "    print(\"Crawl successfully!\")\n",
    "\n",
    "except Exception as e:\n",
    "    print(\"Failed:\", e)\n",
    "    driver.quit()"
   ]
  },
  {
   "cell_type": "code",
   "execution_count": null,
   "metadata": {},
   "outputs": [
    {
     "name": "stdout",
     "output_type": "stream",
     "text": [
      "Crawling for date: 2025-04-08\n",
      "Done: 2025-04-08\n",
      "Crawling for date: 2025-04-09\n",
      "Done: 2025-04-09\n",
      "Crawling for date: 2025-04-10\n",
      "Done: 2025-04-10\n",
      "Crawl completed!\n"
     ]
    }
   ],
   "source": [
    "from selenium import webdriver\n",
    "from selenium.webdriver.common.by import By\n",
    "from selenium.webdriver.support.ui import WebDriverWait\n",
    "from selenium.webdriver.support import expected_conditions as EC\n",
    "import pandas as pd\n",
    "from datetime import datetime, timedelta\n",
    "import time, os\n",
    "\n",
    "driver = webdriver.Chrome()\n",
    "start_date = datetime(2025, 4, 8)\n",
    "end_date = datetime(2025, 4, 10)\n",
    "\n",
    "url = 'https://vietnamairport.vn/thong-tin-lich-bay'\n",
    "\n",
    "for i in range((end_date - start_date).days + 1):\n",
    "    current_date = start_date + timedelta(days=i)\n",
    "    print(f\"Crawling for date: {current_date.strftime('%Y-%m-%d')}\")\n",
    "\n",
    "    driver.get(url)\n",
    "    time.sleep(3)\n",
    "\n",
    "    try:\n",
    "        date_input = WebDriverWait(driver, 10).until(EC.presence_of_element_located((By.NAME, \"flight_date\")))\n",
    "        driver.execute_script(\"arguments[0].value = arguments[1]\", date_input, current_date.strftime(\"%Y-%m-%d\"))\n",
    "\n",
    "        search_button = WebDriverWait(driver, 10).until(EC.element_to_be_clickable((By.CLASS_NAME, \"btn-filter\")))\n",
    "        search_button.click()\n",
    "\n",
    "        WebDriverWait(driver, 10).until(EC.presence_of_element_located((By.CSS_SELECTOR, \"#flight_table tbody tr\")))\n",
    "\n",
    "        column_headers = [th.text.strip() for th in driver.find_elements(By.CSS_SELECTOR, \"table.table-striped thead th\")]\n",
    "        rows = driver.find_elements(By.CSS_SELECTOR, \"table.table-striped tbody tr\")\n",
    "        table_data = []\n",
    "\n",
    "        for row in rows:\n",
    "            cells = row.find_elements(By.TAG_NAME, \"td\")\n",
    "            data_row = [cell.text.strip() for cell in cells]\n",
    "            data_row.append(current_date.strftime('%Y-%m-%d'))\n",
    "            table_data.append(data_row)\n",
    "\n",
    "        column_headers.append(\"Flight Date\")\n",
    "        df = pd.DataFrame(table_data, columns=column_headers)\n",
    "\n",
    "        file_path = \"flights.csv\"\n",
    "        file_exists = os.path.isfile(file_path)\n",
    "        df.to_csv(file_path, mode='a', index=False, header=not file_exists)\n",
    "\n",
    "        print(f\"Done: {current_date.strftime('%Y-%m-%d')}\")\n",
    "\n",
    "    except Exception as e:\n",
    "        print(f\"Failed: {e}\")\n",
    "        continue\n",
    "\n",
    "driver.quit()\n",
    "print(\"Crawl completed!\")"
   ]
  },
  {
   "cell_type": "code",
   "execution_count": null,
   "metadata": {},
   "outputs": [],
   "source": []
  }
 ],
 "metadata": {
  "kernelspec": {
   "display_name": "base",
   "language": "python",
   "name": "python3"
  },
  "language_info": {
   "codemirror_mode": {
    "name": "ipython",
    "version": 3
   },
   "file_extension": ".py",
   "mimetype": "text/x-python",
   "name": "python",
   "nbconvert_exporter": "python",
   "pygments_lexer": "ipython3",
   "version": "3.12.4"
  }
 },
 "nbformat": 4,
 "nbformat_minor": 2
}
